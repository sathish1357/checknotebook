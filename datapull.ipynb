import pandas as pd
data = pd.read_csv('sample.csv')
data.head()
